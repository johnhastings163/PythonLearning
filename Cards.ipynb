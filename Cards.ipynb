{
 "cells": [
  {
   "cell_type": "code",
   "execution_count": 45,
   "metadata": {},
   "outputs": [],
   "source": [
    "import random\n",
    "suits = [\"Clubs\", \"Spades\", \"Hearts\", \"Diamonds\"]\n",
    "faces = [\"Jack\", \"Queen\", \"King\", \"Ace\"]\n",
    "numbered =[2, 3, 4, 5, 6, 7, 8, 9, 10]"
   ]
  },
  {
   "cell_type": "code",
   "execution_count": 25,
   "metadata": {},
   "outputs": [
    {
     "data": {
      "text/plain": [
       "['Clubs', 'Spades', 'Hearts', 'Diamonds']"
      ]
     },
     "execution_count": 25,
     "metadata": {},
     "output_type": "execute_result"
    }
   ],
   "source": [
    "suits"
   ]
  },
  {
   "cell_type": "code",
   "execution_count": 46,
   "metadata": {},
   "outputs": [],
   "source": [
    "def draw():\n",
    "    the_suit = random.choice(suits)\n",
    "    the_card = random.choice(faces + numbered)\n",
    "    return the_card, \"of\", the_suit"
   ]
  },
  {
   "cell_type": "code",
   "execution_count": 27,
   "metadata": {},
   "outputs": [
    {
     "name": "stdout",
     "output_type": "stream",
     "text": [
      "('Jack', 'of', 'Spades')\n",
      "(3, 'of', 'Clubs')\n",
      "(4, 'of', 'Spades')\n",
      "(5, 'of', 'Diamonds')\n",
      "('Jack', 'of', 'Hearts')\n"
     ]
    }
   ],
   "source": [
    "for _ in range(5):\n",
    "    print(draw())"
   ]
  },
  {
   "cell_type": "code",
   "execution_count": 47,
   "metadata": {},
   "outputs": [],
   "source": [
    "\n",
    "\n",
    "deck = set()"
   ]
  },
  {
   "cell_type": "code",
   "execution_count": 48,
   "metadata": {},
   "outputs": [
    {
     "data": {
      "text/plain": [
       "set"
      ]
     },
     "execution_count": 48,
     "metadata": {},
     "output_type": "execute_result"
    }
   ],
   "source": [
    "type(deck)\n"
   ]
  },
  {
   "cell_type": "code",
   "execution_count": 30,
   "metadata": {},
   "outputs": [
    {
     "data": {
      "text/plain": [
       "0"
      ]
     },
     "execution_count": 30,
     "metadata": {},
     "output_type": "execute_result"
    }
   ],
   "source": [
    "len(deck)\n"
   ]
  },
  {
   "cell_type": "code",
   "execution_count": 31,
   "metadata": {},
   "outputs": [
    {
     "name": "stdout",
     "output_type": "stream",
     "text": [
      "['__and__', '__class__', '__class_getitem__', '__contains__', '__delattr__', '__dir__', '__doc__', '__eq__', '__format__', '__ge__', '__getattribute__', '__gt__', '__hash__', '__iand__', '__init__', '__init_subclass__', '__ior__', '__isub__', '__iter__', '__ixor__', '__le__', '__len__', '__lt__', '__ne__', '__new__', '__or__', '__rand__', '__reduce__', '__reduce_ex__', '__repr__', '__ror__', '__rsub__', '__rxor__', '__setattr__', '__sizeof__', '__str__', '__sub__', '__subclasshook__', '__xor__', 'add', 'clear', 'copy', 'difference', 'difference_update', 'discard', 'intersection', 'intersection_update', 'isdisjoint', 'issubset', 'issuperset', 'pop', 'remove', 'symmetric_difference', 'symmetric_difference_update', 'union', 'update']\n"
     ]
    }
   ],
   "source": [
    "print(dir(deck))\n"
   ]
  },
  {
   "cell_type": "code",
   "execution_count": 32,
   "metadata": {},
   "outputs": [
    {
     "name": "stdout",
     "output_type": "stream",
     "text": [
      "Help on built-in function add:\n",
      "\n",
      "add(...) method of builtins.set instance\n",
      "    Add an element to a set.\n",
      "    \n",
      "    This has no effect if the element is already present.\n",
      "\n"
     ]
    }
   ],
   "source": [
    "help(deck.add)"
   ]
  },
  {
   "cell_type": "code",
   "execution_count": 49,
   "metadata": {},
   "outputs": [],
   "source": [
    "import random\n",
    "suits = [\"Clubs\", \"Spades\", \"Hearts\", \"Diamonds\"]\n",
    "faces = [\"Jack\", \"Queen\", \"King\", \"Ace\"]\n",
    "numbered =[2, 3, 4, 5, 6, 7, 8, 9, 10]"
   ]
  },
  {
   "cell_type": "code",
   "execution_count": 50,
   "metadata": {},
   "outputs": [],
   "source": [
    "for suit in suits:\n",
    "    for card in faces + numbered:\n",
    "        deck.add((card, \"of\", suit))\n"
   ]
  },
  {
   "cell_type": "code",
   "execution_count": 51,
   "metadata": {},
   "outputs": [
    {
     "data": {
      "text/plain": [
       "52"
      ]
     },
     "execution_count": 51,
     "metadata": {},
     "output_type": "execute_result"
    }
   ],
   "source": [
    "len(deck)"
   ]
  },
  {
   "cell_type": "code",
   "execution_count": 36,
   "metadata": {},
   "outputs": [
    {
     "name": "stdout",
     "output_type": "stream",
     "text": [
      "{(3, 'of', 'Clubs'), (8, 'of', 'Hearts'), ('Ace', 'of', 'Spades'), ('King', 'of', 'Diamonds'), (7, 'of', 'Spades'), (9, 'of', 'Hearts'), (6, 'of', 'Diamonds'), (4, 'of', 'Spades'), (7, 'of', 'Diamonds'), ('Ace', 'of', 'Diamonds'), (5, 'of', 'Spades'), (10, 'of', 'Hearts'), (3, 'of', 'Spades'), (2, 'of', 'Clubs'), ('Jack', 'of', 'Hearts'), (4, 'of', 'Diamonds'), ('Queen', 'of', 'Clubs'), (5, 'of', 'Diamonds'), (6, 'of', 'Hearts'), ('King', 'of', 'Hearts'), (3, 'of', 'Diamonds'), (7, 'of', 'Hearts'), ('Ace', 'of', 'Hearts'), (8, 'of', 'Clubs'), (2, 'of', 'Spades'), (9, 'of', 'Clubs'), (4, 'of', 'Hearts'), (10, 'of', 'Clubs'), ('Queen', 'of', 'Spades'), (5, 'of', 'Hearts'), (2, 'of', 'Diamonds'), (3, 'of', 'Hearts'), ('Queen', 'of', 'Diamonds'), (8, 'of', 'Spades'), ('Jack', 'of', 'Clubs'), (9, 'of', 'Spades'), ('King', 'of', 'Clubs'), (6, 'of', 'Clubs'), (8, 'of', 'Diamonds'), (10, 'of', 'Spades'), (7, 'of', 'Clubs'), (9, 'of', 'Diamonds'), (2, 'of', 'Hearts'), ('Ace', 'of', 'Clubs'), ('Jack', 'of', 'Spades'), ('Queen', 'of', 'Hearts'), (10, 'of', 'Diamonds'), (4, 'of', 'Clubs'), (6, 'of', 'Spades'), ('King', 'of', 'Spades'), (5, 'of', 'Clubs'), ('Jack', 'of', 'Diamonds')}\n"
     ]
    }
   ],
   "source": [
    "print(deck)"
   ]
  },
  {
   "cell_type": "code",
   "execution_count": 52,
   "metadata": {},
   "outputs": [
    {
     "name": "stdout",
     "output_type": "stream",
     "text": [
      "('Jack', 'of', 'Spades')\n"
     ]
    }
   ],
   "source": [
    "card = random.choice(list(deck))\n",
    "print(card)"
   ]
  },
  {
   "cell_type": "code",
   "execution_count": 55,
   "metadata": {},
   "outputs": [
    {
     "ename": "KeyError",
     "evalue": "('Jack', 'of', 'Spades')",
     "output_type": "error",
     "traceback": [
      "\u001b[0;31m---------------------------------------------------------------------------\u001b[0m",
      "\u001b[0;31mKeyError\u001b[0m                                  Traceback (most recent call last)",
      "Cell \u001b[0;32mIn[55], line 1\u001b[0m\n\u001b[0;32m----> 1\u001b[0m \u001b[43mdeck\u001b[49m\u001b[38;5;241;43m.\u001b[39;49m\u001b[43mremove\u001b[49m\u001b[43m(\u001b[49m\u001b[43mcard\u001b[49m\u001b[43m)\u001b[49m\n\u001b[1;32m      2\u001b[0m \u001b[38;5;28mlen\u001b[39m(deck)\n",
      "\u001b[0;31mKeyError\u001b[0m: ('Jack', 'of', 'Spades')"
     ]
    }
   ],
   "source": [
    "deck.remove(card)\n",
    "len(deck)"
   ]
  },
  {
   "cell_type": "code",
   "execution_count": 39,
   "metadata": {},
   "outputs": [
    {
     "data": {
      "text/plain": [
       "tuple"
      ]
     },
     "execution_count": 39,
     "metadata": {},
     "output_type": "execute_result"
    }
   ],
   "source": [
    "type(card)"
   ]
  },
  {
   "cell_type": "code",
   "execution_count": 54,
   "metadata": {},
   "outputs": [
    {
     "data": {
      "text/plain": [
       "('Jack', 'of', 'Spades')"
      ]
     },
     "execution_count": 54,
     "metadata": {},
     "output_type": "execute_result"
    }
   ],
   "source": [
    "card"
   ]
  },
  {
   "cell_type": "code",
   "execution_count": null,
   "metadata": {},
   "outputs": [],
   "source": []
  }
 ],
 "metadata": {
  "kernelspec": {
   "display_name": "Python 3",
   "language": "python",
   "name": "python3"
  },
  "language_info": {
   "codemirror_mode": {
    "name": "ipython",
    "version": 3
   },
   "file_extension": ".py",
   "mimetype": "text/x-python",
   "name": "python",
   "nbconvert_exporter": "python",
   "pygments_lexer": "ipython3",
   "version": "3.9.6"
  }
 },
 "nbformat": 4,
 "nbformat_minor": 2
}
